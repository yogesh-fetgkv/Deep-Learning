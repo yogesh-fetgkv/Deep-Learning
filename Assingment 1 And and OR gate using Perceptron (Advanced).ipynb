{
 "cells": [
  {
   "cell_type": "code",
   "execution_count": 4,
   "metadata": {},
   "outputs": [
    {
     "name": "stdout",
     "output_type": "stream",
     "text": [
      "Enter x1: 2\n",
      "Enter x2: 5\n",
      "True\n"
     ]
    },
    {
     "data": {
      "image/png": "[encoded data removed]",
      "text/plain": [
       "<Figure size 432x288 with 1 Axes>"
      ]
     },
     "metadata": {
      "needs_background": "light"
     },
     "output_type": "display_data"
    }
   ],
   "source": [
    "\"\"\" And and OR Gate Using Perceptron \"\"\"\n",
    "import numpy as np\n",
    "import matplotlib.pyplot as plt\n",
    "x = np.array([[0,0],[0,1],[1,0],[1,1]])\n",
    "#For OR Gate\n",
    "#y = np.array([0,1,1,1])\n",
    "#For AND Gate\n",
    "y = np.array([0,0,0,1])\n",
    "\n",
    "def step_function(x):\n",
    "    return x>=0\n",
    "\n",
    "def perceptron(epochs, alpha, bias):\n",
    "    w = np.random.rand(2)\n",
    "    while(epochs > 0):\n",
    "        for i in range(4):\n",
    "            pred = step_function(w.dot(x[i]) + bias)\n",
    "            w = w - (alpha * (pred - y[i])) * x[i]\n",
    "            bias = bias - (alpha * (pred - y[i]))\n",
    "        epochs = epochs - 1\n",
    "    return (w,bias)\n",
    "\n",
    "def test(x1, x2, weights, bias):\n",
    "    ans1 = (weights[0] * x1 + weights[1] * x2 + bias)\n",
    "    return step_function(ans1)\n",
    "\n",
    "alpha = 0.1\n",
    "epochs = 20\n",
    "bias = 0\n",
    "ans = perceptron(epochs, alpha, bias)\n",
    "weights = ans[0]\n",
    "bias = ans[1]\n",
    "\n",
    "x1 = int(input(\"Enter x1: \"))\n",
    "x2 = int(input(\"Enter x2: \"))\n",
    "print(test(x1,x2,weights,bias))\n",
    "\n",
    "X1 = [0,0,1,1]\n",
    "X2 = [0,1,0,1]\n",
    "plt.plot(X1,X2,'ro')\n",
    "pnt1 = (-bias/weights[0])\n",
    "pnt2 = (-bias/weights[1])\n",
    "point1 = [0,pnt1]\n",
    "point2 = [pnt2,0]\n",
    "plt.plot(point1, point2, 'b-')\n",
    "plt.show()\n"
   ]
  },
  {
   "cell_type": "code",
   "execution_count": null,
   "metadata": {},
   "outputs": [],
   "source": []
  },
  {
   "cell_type": "code",
   "execution_count": null,
   "metadata": {},
   "outputs": [],
   "source": []
  }
 ],
 "metadata": {
  "kernelspec": {
   "display_name": "Python 3",
   "language": "python",
   "name": "python3"
  },
  "language_info": {
   "codemirror_mode": {
    "name": "ipython",
    "version": 3
   },
   "file_extension": ".py",
   "mimetype": "text/x-python",
   "name": "python",
   "nbconvert_exporter": "python",
   "pygments_lexer": "ipython3",
   "version": "3.8.3"
  }
 },
 "nbformat": 4,
 "nbformat_minor": 4
}
